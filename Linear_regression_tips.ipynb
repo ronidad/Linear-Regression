{
  "nbformat": 4,
  "nbformat_minor": 0,
  "metadata": {
    "colab": {
      "name": "Linear regression tips.ipynb",
      "provenance": [],
      "collapsed_sections": [],
      "toc_visible": true
    },
    "kernelspec": {
      "name": "python3",
      "display_name": "Python 3"
    }
  },
  "cells": [
    {
      "cell_type": "markdown",
      "metadata": {
        "id": "oxXI2w6xSCxt"
      },
      "source": [
        "# Example: Detecting multicollinearity\n",
        "\n",
        "We will once again use our university admission [dataset](https://drive.google.com/file/d/13HPgfc4HP9UP-gHM2lutJ7MXSt-dAL1d/view)\n",
        "\n",
        "First, let's understand how our independent variables are correlated to each other"
      ]
    },
    {
      "cell_type": "code",
      "metadata": {
        "id": "3myU4PcKSB9V",
        "colab": {
          "base_uri": "https://localhost:8080/",
          "height": 254
        },
        "outputId": "e9e4a86f-0d5c-4904-c849-4e5f974f8dc3"
      },
      "source": [
        "import numpy as np\n",
        "import pandas as pd\n",
        "\n",
        "# Load the dataset\n",
        "data = pd.read_csv('uni_admission.csv')\n",
        "\n",
        "# Remove the serial and admit chance columns, we want to focus on our independent variables only.\n",
        "independent_only = data.drop(columns=['Serial No.', 'admit_chance'])\n",
        "\n",
        "# Let's display the correlations between the variables\n",
        "correlations = independent_only.corr()\n",
        "\n",
        "correlations"
      ],
      "execution_count": null,
      "outputs": [
        {
          "output_type": "execute_result",
          "data": {
            "text/html": [
              "<div>\n",
              "<style scoped>\n",
              "    .dataframe tbody tr th:only-of-type {\n",
              "        vertical-align: middle;\n",
              "    }\n",
              "\n",
              "    .dataframe tbody tr th {\n",
              "        vertical-align: top;\n",
              "    }\n",
              "\n",
              "    .dataframe thead th {\n",
              "        text-align: right;\n",
              "    }\n",
              "</style>\n",
              "<table border=\"1\" class=\"dataframe\">\n",
              "  <thead>\n",
              "    <tr style=\"text-align: right;\">\n",
              "      <th></th>\n",
              "      <th>GRE</th>\n",
              "      <th>TOEFL</th>\n",
              "      <th>uni_rating</th>\n",
              "      <th>SOP</th>\n",
              "      <th>LOR</th>\n",
              "      <th>CGPA</th>\n",
              "      <th>publications</th>\n",
              "    </tr>\n",
              "  </thead>\n",
              "  <tbody>\n",
              "    <tr>\n",
              "      <th>GRE</th>\n",
              "      <td>1.000000</td>\n",
              "      <td>0.827200</td>\n",
              "      <td>0.635376</td>\n",
              "      <td>0.613498</td>\n",
              "      <td>0.524679</td>\n",
              "      <td>0.825878</td>\n",
              "      <td>0.563398</td>\n",
              "    </tr>\n",
              "    <tr>\n",
              "      <th>TOEFL</th>\n",
              "      <td>0.827200</td>\n",
              "      <td>1.000000</td>\n",
              "      <td>0.649799</td>\n",
              "      <td>0.644410</td>\n",
              "      <td>0.541563</td>\n",
              "      <td>0.810574</td>\n",
              "      <td>0.467012</td>\n",
              "    </tr>\n",
              "    <tr>\n",
              "      <th>uni_rating</th>\n",
              "      <td>0.635376</td>\n",
              "      <td>0.649799</td>\n",
              "      <td>1.000000</td>\n",
              "      <td>0.728024</td>\n",
              "      <td>0.608651</td>\n",
              "      <td>0.705254</td>\n",
              "      <td>0.427047</td>\n",
              "    </tr>\n",
              "    <tr>\n",
              "      <th>SOP</th>\n",
              "      <td>0.613498</td>\n",
              "      <td>0.644410</td>\n",
              "      <td>0.728024</td>\n",
              "      <td>1.000000</td>\n",
              "      <td>0.663707</td>\n",
              "      <td>0.712154</td>\n",
              "      <td>0.408116</td>\n",
              "    </tr>\n",
              "    <tr>\n",
              "      <th>LOR</th>\n",
              "      <td>0.524679</td>\n",
              "      <td>0.541563</td>\n",
              "      <td>0.608651</td>\n",
              "      <td>0.663707</td>\n",
              "      <td>1.000000</td>\n",
              "      <td>0.637469</td>\n",
              "      <td>0.372526</td>\n",
              "    </tr>\n",
              "    <tr>\n",
              "      <th>CGPA</th>\n",
              "      <td>0.825878</td>\n",
              "      <td>0.810574</td>\n",
              "      <td>0.705254</td>\n",
              "      <td>0.712154</td>\n",
              "      <td>0.637469</td>\n",
              "      <td>1.000000</td>\n",
              "      <td>0.501311</td>\n",
              "    </tr>\n",
              "    <tr>\n",
              "      <th>publications</th>\n",
              "      <td>0.563398</td>\n",
              "      <td>0.467012</td>\n",
              "      <td>0.427047</td>\n",
              "      <td>0.408116</td>\n",
              "      <td>0.372526</td>\n",
              "      <td>0.501311</td>\n",
              "      <td>1.000000</td>\n",
              "    </tr>\n",
              "  </tbody>\n",
              "</table>\n",
              "</div>"
            ],
            "text/plain": [
              "                   GRE     TOEFL  uni_rating  ...       LOR      CGPA  publications\n",
              "GRE           1.000000  0.827200    0.635376  ...  0.524679  0.825878      0.563398\n",
              "TOEFL         0.827200  1.000000    0.649799  ...  0.541563  0.810574      0.467012\n",
              "uni_rating    0.635376  0.649799    1.000000  ...  0.608651  0.705254      0.427047\n",
              "SOP           0.613498  0.644410    0.728024  ...  0.663707  0.712154      0.408116\n",
              "LOR           0.524679  0.541563    0.608651  ...  1.000000  0.637469      0.372526\n",
              "CGPA          0.825878  0.810574    0.705254  ...  0.637469  1.000000      0.501311\n",
              "publications  0.563398  0.467012    0.427047  ...  0.372526  0.501311      1.000000\n",
              "\n",
              "[7 rows x 7 columns]"
            ]
          },
          "metadata": {
            "tags": []
          },
          "execution_count": 4
        }
      ]
    },
    {
      "cell_type": "markdown",
      "metadata": {
        "id": "l3mXiNPXcMeF"
      },
      "source": [
        "The tabe above shows us how each variable relates to another. The coefficient of 1 across the diagonal makes sense, as a variable is perfectly correlated to itself. Let's use these correlations to compute the VIF score for each variable. This will require a little bit of linear algebra, but the approach is straightforward: we create a new dataframe with the *inverse* of the matrix above."
      ]
    },
    {
      "cell_type": "code",
      "metadata": {
        "id": "Q_L2Glx4UJjW",
        "colab": {
          "base_uri": "https://localhost:8080/",
          "height": 254
        },
        "outputId": "d10406df-158c-485c-bec7-3e20b4f9724f"
      },
      "source": [
        "pd.DataFrame(np.linalg.inv(correlations.values), index = correlations.index, columns=correlations.columns)\n"
      ],
      "execution_count": null,
      "outputs": [
        {
          "output_type": "execute_result",
          "data": {
            "text/html": [
              "<div>\n",
              "<style scoped>\n",
              "    .dataframe tbody tr th:only-of-type {\n",
              "        vertical-align: middle;\n",
              "    }\n",
              "\n",
              "    .dataframe tbody tr th {\n",
              "        vertical-align: top;\n",
              "    }\n",
              "\n",
              "    .dataframe thead th {\n",
              "        text-align: right;\n",
              "    }\n",
              "</style>\n",
              "<table border=\"1\" class=\"dataframe\">\n",
              "  <thead>\n",
              "    <tr style=\"text-align: right;\">\n",
              "      <th></th>\n",
              "      <th>GRE</th>\n",
              "      <th>TOEFL</th>\n",
              "      <th>uni_rating</th>\n",
              "      <th>SOP</th>\n",
              "      <th>LOR</th>\n",
              "      <th>CGPA</th>\n",
              "      <th>publications</th>\n",
              "    </tr>\n",
              "  </thead>\n",
              "  <tbody>\n",
              "    <tr>\n",
              "      <th>GRE</th>\n",
              "      <td>4.464249</td>\n",
              "      <td>-1.919309</td>\n",
              "      <td>-0.167441</td>\n",
              "      <td>0.115539</td>\n",
              "      <td>0.163716</td>\n",
              "      <td>-1.829666</td>\n",
              "      <td>-0.738214</td>\n",
              "    </tr>\n",
              "    <tr>\n",
              "      <th>TOEFL</th>\n",
              "      <td>-1.919309</td>\n",
              "      <td>3.904213</td>\n",
              "      <td>-0.280590</td>\n",
              "      <td>-0.320530</td>\n",
              "      <td>0.008925</td>\n",
              "      <td>-1.216918</td>\n",
              "      <td>0.115389</td>\n",
              "    </tr>\n",
              "    <tr>\n",
              "      <th>uni_rating</th>\n",
              "      <td>-0.167441</td>\n",
              "      <td>-0.280590</td>\n",
              "      <td>2.621036</td>\n",
              "      <td>-1.003439</td>\n",
              "      <td>-0.326820</td>\n",
              "      <td>-0.504916</td>\n",
              "      <td>-0.109544</td>\n",
              "    </tr>\n",
              "    <tr>\n",
              "      <th>SOP</th>\n",
              "      <td>0.115539</td>\n",
              "      <td>-0.320530</td>\n",
              "      <td>-1.003439</td>\n",
              "      <td>2.835210</td>\n",
              "      <td>-0.715324</td>\n",
              "      <td>-0.670228</td>\n",
              "      <td>-0.041512</td>\n",
              "    </tr>\n",
              "    <tr>\n",
              "      <th>LOR</th>\n",
              "      <td>0.163716</td>\n",
              "      <td>0.008925</td>\n",
              "      <td>-0.326820</td>\n",
              "      <td>-0.715324</td>\n",
              "      <td>2.033555</td>\n",
              "      <td>-0.650578</td>\n",
              "      <td>-0.096312</td>\n",
              "    </tr>\n",
              "    <tr>\n",
              "      <th>CGPA</th>\n",
              "      <td>-1.829666</td>\n",
              "      <td>-1.216918</td>\n",
              "      <td>-0.504916</td>\n",
              "      <td>-0.670228</td>\n",
              "      <td>-0.650578</td>\n",
              "      <td>4.777992</td>\n",
              "      <td>-0.064604</td>\n",
              "    </tr>\n",
              "    <tr>\n",
              "      <th>publications</th>\n",
              "      <td>-0.738214</td>\n",
              "      <td>0.115389</td>\n",
              "      <td>-0.109544</td>\n",
              "      <td>-0.041512</td>\n",
              "      <td>-0.096312</td>\n",
              "      <td>-0.064604</td>\n",
              "      <td>1.494008</td>\n",
              "    </tr>\n",
              "  </tbody>\n",
              "</table>\n",
              "</div>"
            ],
            "text/plain": [
              "                   GRE     TOEFL  uni_rating  ...       LOR      CGPA  publications\n",
              "GRE           4.464249 -1.919309   -0.167441  ...  0.163716 -1.829666     -0.738214\n",
              "TOEFL        -1.919309  3.904213   -0.280590  ...  0.008925 -1.216918      0.115389\n",
              "uni_rating   -0.167441 -0.280590    2.621036  ... -0.326820 -0.504916     -0.109544\n",
              "SOP           0.115539 -0.320530   -1.003439  ... -0.715324 -0.670228     -0.041512\n",
              "LOR           0.163716  0.008925   -0.326820  ...  2.033555 -0.650578     -0.096312\n",
              "CGPA         -1.829666 -1.216918   -0.504916  ... -0.650578  4.777992     -0.064604\n",
              "publications -0.738214  0.115389   -0.109544  ... -0.096312 -0.064604      1.494008\n",
              "\n",
              "[7 rows x 7 columns]"
            ]
          },
          "metadata": {
            "tags": []
          },
          "execution_count": 5
        }
      ]
    },
    {
      "cell_type": "markdown",
      "metadata": {
        "id": "jTBZHScKc5yh"
      },
      "source": [
        "Interpreting the table is straightforward: The VIF score for each variable is found alongside the downwards sloping diagonal. GRE has a score of 4.46, TOEFL has a score of 3.9, uni_rating a score of 2.62, etc.\n",
        "\n",
        "CGPA has a value nearing 5, let's see how the VIF scores improve if we remove it from our dataset"
      ]
    },
    {
      "cell_type": "code",
      "metadata": {
        "id": "8ODEkFCQaG94",
        "colab": {
          "base_uri": "https://localhost:8080/",
          "height": 225
        },
        "outputId": "f466f621-3d40-45cc-f2d5-4a7711251640"
      },
      "source": [
        "revised = independent_only.drop(columns=['CGPA'])\n",
        "\n",
        "correlations = revised.corr()\n",
        "pd.DataFrame(np.linalg.inv(correlations.values), index = correlations.index, columns=correlations.columns)\n",
        "\n"
      ],
      "execution_count": null,
      "outputs": [
        {
          "output_type": "execute_result",
          "data": {
            "text/html": [
              "<div>\n",
              "<style scoped>\n",
              "    .dataframe tbody tr th:only-of-type {\n",
              "        vertical-align: middle;\n",
              "    }\n",
              "\n",
              "    .dataframe tbody tr th {\n",
              "        vertical-align: top;\n",
              "    }\n",
              "\n",
              "    .dataframe thead th {\n",
              "        text-align: right;\n",
              "    }\n",
              "</style>\n",
              "<table border=\"1\" class=\"dataframe\">\n",
              "  <thead>\n",
              "    <tr style=\"text-align: right;\">\n",
              "      <th></th>\n",
              "      <th>GRE</th>\n",
              "      <th>TOEFL</th>\n",
              "      <th>uni_rating</th>\n",
              "      <th>SOP</th>\n",
              "      <th>LOR</th>\n",
              "      <th>publications</th>\n",
              "    </tr>\n",
              "  </thead>\n",
              "  <tbody>\n",
              "    <tr>\n",
              "      <th>GRE</th>\n",
              "      <td>3.763604</td>\n",
              "      <td>-2.385311</td>\n",
              "      <td>-0.360792</td>\n",
              "      <td>-0.141115</td>\n",
              "      <td>-0.085414</td>\n",
              "      <td>-0.762953</td>\n",
              "    </tr>\n",
              "    <tr>\n",
              "      <th>TOEFL</th>\n",
              "      <td>-2.385311</td>\n",
              "      <td>3.594274</td>\n",
              "      <td>-0.409188</td>\n",
              "      <td>-0.491232</td>\n",
              "      <td>-0.156772</td>\n",
              "      <td>0.098934</td>\n",
              "    </tr>\n",
              "    <tr>\n",
              "      <th>uni_rating</th>\n",
              "      <td>-0.360792</td>\n",
              "      <td>-0.409188</td>\n",
              "      <td>2.567679</td>\n",
              "      <td>-1.074266</td>\n",
              "      <td>-0.395570</td>\n",
              "      <td>-0.116371</td>\n",
              "    </tr>\n",
              "    <tr>\n",
              "      <th>SOP</th>\n",
              "      <td>-0.141115</td>\n",
              "      <td>-0.491232</td>\n",
              "      <td>-1.074266</td>\n",
              "      <td>2.741195</td>\n",
              "      <td>-0.806583</td>\n",
              "      <td>-0.050574</td>\n",
              "    </tr>\n",
              "    <tr>\n",
              "      <th>LOR</th>\n",
              "      <td>-0.085414</td>\n",
              "      <td>-0.156772</td>\n",
              "      <td>-0.395570</td>\n",
              "      <td>-0.806583</td>\n",
              "      <td>1.944971</td>\n",
              "      <td>-0.105109</td>\n",
              "    </tr>\n",
              "    <tr>\n",
              "      <th>publications</th>\n",
              "      <td>-0.762953</td>\n",
              "      <td>0.098934</td>\n",
              "      <td>-0.116371</td>\n",
              "      <td>-0.050574</td>\n",
              "      <td>-0.105109</td>\n",
              "      <td>1.493134</td>\n",
              "    </tr>\n",
              "  </tbody>\n",
              "</table>\n",
              "</div>"
            ],
            "text/plain": [
              "                   GRE     TOEFL  uni_rating       SOP       LOR  publications\n",
              "GRE           3.763604 -2.385311   -0.360792 -0.141115 -0.085414     -0.762953\n",
              "TOEFL        -2.385311  3.594274   -0.409188 -0.491232 -0.156772      0.098934\n",
              "uni_rating   -0.360792 -0.409188    2.567679 -1.074266 -0.395570     -0.116371\n",
              "SOP          -0.141115 -0.491232   -1.074266  2.741195 -0.806583     -0.050574\n",
              "LOR          -0.085414 -0.156772   -0.395570 -0.806583  1.944971     -0.105109\n",
              "publications -0.762953  0.098934   -0.116371 -0.050574 -0.105109      1.493134"
            ]
          },
          "metadata": {
            "tags": []
          },
          "execution_count": 9
        }
      ]
    },
    {
      "cell_type": "markdown",
      "metadata": {
        "id": "Z95zlmBidiF5"
      },
      "source": [
        "All scores dropped, but the GRE's in particular did quite a bit, indicating that GRE and CGPA were colinear. "
      ]
    },
    {
      "cell_type": "markdown",
      "metadata": {
        "id": "7DRwrZjZduD7"
      },
      "source": [
        "# Example 2: Residual plots and heteroskedasticity testing\n",
        "\n",
        "Let's start by creating a model based on our revised set of independent variables above, then displaying the residual plot for it."
      ]
    },
    {
      "cell_type": "code",
      "metadata": {
        "id": "IHQOLs1Nh2bx",
        "colab": {
          "base_uri": "https://localhost:8080/",
          "height": 34
        },
        "outputId": "45772409-dfe6-43f8-d545-04500fb8d13a"
      },
      "source": [
        "from sklearn import metrics\n",
        "from sklearn.model_selection import train_test_split\n",
        "from sklearn.linear_model import LinearRegression\n",
        "\n",
        "X = revised.values\n",
        "y = data['admit_chance'].values\n",
        "\n",
        "X_train, X_test, admit_train, admit_test = train_test_split(X, y, test_size=0.2, random_state=0)\n",
        "\n",
        "regressor = LinearRegression()\n",
        "regressor.fit(X_train, admit_train)\n",
        "\n",
        "# This is our prediction for admission based on our model\n",
        "admit_predict = regressor.predict(X_test)\n",
        "\n",
        "# We now create the residual by substracting the test value from the predicted \n",
        "# value for each row in our dataset\n",
        "\n",
        "residuals = np.subtract(admit_predict, admit_test)\n",
        "\n",
        "# Let's describe our residual:\n",
        "pd.DataFrame(residuals).describe()\n",
        "\n",
        "residuals.mean()"
      ],
      "execution_count": null,
      "outputs": [
        {
          "output_type": "execute_result",
          "data": {
            "text/plain": [
              "-0.0017516644688065042"
            ]
          },
          "metadata": {
            "tags": []
          },
          "execution_count": 13
        }
      ]
    },
    {
      "cell_type": "markdown",
      "metadata": {
        "id": "wevY_SU-j7gH"
      },
      "source": [
        "Before we interpret the description above, let's recall what we are trying to predict: The percentage chance of admission to university. This means values between 0 and 1. \n",
        "\n",
        "Our min and max for the residual are fairly high: they suggest we've been up to 26% off target. It's important for us to plot this first: Is this a common occurence, or a few outliers?\n",
        "\n",
        "Our mean on the other hand is close to 0, indicating that we tend to be fairly correct, although slightly over estimating chances by, on average, 0.17%\n",
        "\n",
        "Let's show the residual plot"
      ]
    },
    {
      "cell_type": "code",
      "metadata": {
        "id": "sn8crVSAlPIw",
        "colab": {
          "base_uri": "https://localhost:8080/",
          "height": 283
        },
        "outputId": "d81c4196-3cf4-476d-c403-7cdeabdf975d"
      },
      "source": [
        "import matplotlib.pyplot as plt\n",
        "\n",
        "plt.scatter(admit_predict, residuals, color='black')\n",
        "plt.ylabel('residual')\n",
        "plt.xlabel('fitted values')\n",
        "plt.axhline(y= residuals.mean(), color='red', linewidth=1)\n",
        "plt.show()"
      ],
      "execution_count": null,
      "outputs": [
        {
          "output_type": "display_data",
          "data": {
            "image/png": "[encoded data removed]",
            "text/plain": [
              "<Figure size 432x288 with 1 Axes>"
            ]
          },
          "metadata": {
            "tags": []
          }
        }
      ]
    },
    {
      "cell_type": "markdown",
      "metadata": {
        "id": "oIT6DpvlmqaD"
      },
      "source": [
        "This does not look too bad: our residuals are centered around a mean that is very close to 0, and there are no glaringly obvious patterns. Let's be thorough though, and perform a heteroskedasticity test.\n",
        "\n",
        "For this we will use [bartlett's test](https://www.itl.nist.gov/div898/handbook/eda/section3/eda357.htm). The test establishes as a null hypothesis that the variance is equal for all our datapoints,and the new hypothesis that the variance is different for at least one pair of datapoints.\n"
      ]
    },
    {
      "cell_type": "code",
      "metadata": {
        "id": "LlvHQ6Ivm5j5",
        "colab": {
          "base_uri": "https://localhost:8080/",
          "height": 50
        },
        "outputId": "ac5d7635-1ab7-43d9-a0ae-093fdb218019"
      },
      "source": [
        "import scipy as sp\n",
        "\n",
        "test_result, p_value = sp.stats.bartlett(admit_predict, residuals)\n",
        "\n",
        "# To interpret the results we must also compute a critical value of the chi squared distribution\n",
        "degree_of_freedom = len(admit_predict)-1\n",
        "probability = 1 - p_value\n",
        "\n",
        "critical_value = sp.stats.chi2.ppf(probability, degree_of_freedom)\n",
        "print(value)\n",
        "\n",
        "# If the test_result is greater than the critical value, then we reject our null\n",
        "# hypothesis. This would mean that there are patterns to the variance of the data\n",
        "\n",
        "# Otherwise, we can identify no patterns, and we accept the null hypothesis that \n",
        "# the variance is homogeneous across our data\n",
        "\n",
        "if (test_result > critical_value):\n",
        "  print('the variances are unequal, and the model should be reassessed')\n",
        "else:\n",
        "  print('the variances are homogeneous!')\n",
        "\n"
      ],
      "execution_count": null,
      "outputs": [
        {
          "output_type": "stream",
          "text": [
            "16.918977604620448\n",
            "the variances are homogeneous!\n"
          ],
          "name": "stdout"
        }
      ]
    },
    {
      "cell_type": "markdown",
      "metadata": {
        "id": "W27Z9P7Jx1yK"
      },
      "source": [
        "# Challenge\n",
        "\n",
        "We will bring this all together by adapting a challenge from data.world. In the code section below you have access to a large dataset with demographic and medical data for cancer occurances in regions in the US. Your aim is to build a model that predicts the **target_deathrate** variable. You can find descriptions of all the columns [here](https://data.world/exercises/linear-regression-exercise-1)\n",
        "\n",
        "This is a holistic challenge:\n",
        "\n",
        "\n",
        "*   Make sure to clean up your data first, there are some missing elements.\n",
        "*   Some data should be changed: Add a **state** column which indicates the state a person lives in(you can modify the geography column). Perform a multicollinearity test: Should **state** be included in your model or not?\n",
        "* If it should be, make sure to transform it since we want to be dealing with numerical data.\n",
        "* Build a model, then display the residual plot for it. Perform a Bartlett test to determine if your model is acceptable or not.\n",
        "\n",
        "\n",
        "\n"
      ]
    },
    {
      "cell_type": "code",
      "metadata": {
        "id": "jPivvZE_zCzY"
      },
      "source": [
        "# Your code goes here!\n",
        "df = pd.read_csv('https://query.data.world/s/4n3rdrpeu6qrfo63yacah7v3ofoaag')"
      ],
      "execution_count": null,
      "outputs": []
    }
  ]
}